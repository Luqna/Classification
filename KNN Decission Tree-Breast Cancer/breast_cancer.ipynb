{
 "cells": [
  {
   "cell_type": "code",
   "execution_count": 100,
   "id": "881e31c8-7256-48d3-9b64-195d07edf4fe",
   "metadata": {},
   "outputs": [
    {
     "data": {
      "text/plain": [
       "'C:\\\\Users\\\\Luqna Aziziyah\\\\Documents\\\\luqna\\\\kuliah\\\\sems 4\\\\stat multi'"
      ]
     },
     "execution_count": 100,
     "metadata": {},
     "output_type": "execute_result"
    }
   ],
   "source": [
    "pwd"
   ]
  },
  {
   "cell_type": "markdown",
   "id": "7e4936f9-17f9-42c8-a6c9-07b0c4654fc9",
   "metadata": {
    "tags": []
   },
   "source": [
    "# 1. Data Collecting"
   ]
  },
  {
   "cell_type": "code",
   "execution_count": 101,
   "id": "1c41b47c-f6e5-4ae2-ae29-03bbc3a87d4f",
   "metadata": {},
   "outputs": [
    {
     "data": {
      "text/html": [
       "<div>\n",
       "<style scoped>\n",
       "    .dataframe tbody tr th:only-of-type {\n",
       "        vertical-align: middle;\n",
       "    }\n",
       "\n",
       "    .dataframe tbody tr th {\n",
       "        vertical-align: top;\n",
       "    }\n",
       "\n",
       "    .dataframe thead th {\n",
       "        text-align: right;\n",
       "    }\n",
       "</style>\n",
       "<table border=\"1\" class=\"dataframe\">\n",
       "  <thead>\n",
       "    <tr style=\"text-align: right;\">\n",
       "      <th></th>\n",
       "      <th>Age</th>\n",
       "      <th>BMI</th>\n",
       "      <th>Glucose</th>\n",
       "      <th>Insulin</th>\n",
       "      <th>HOMA</th>\n",
       "      <th>Leptin</th>\n",
       "      <th>Adiponectin</th>\n",
       "      <th>Resistin</th>\n",
       "      <th>MCP.1</th>\n",
       "      <th>Classification</th>\n",
       "    </tr>\n",
       "  </thead>\n",
       "  <tbody>\n",
       "    <tr>\n",
       "      <th>0</th>\n",
       "      <td>48</td>\n",
       "      <td>23.500000</td>\n",
       "      <td>70</td>\n",
       "      <td>2.707</td>\n",
       "      <td>0.467409</td>\n",
       "      <td>8.8071</td>\n",
       "      <td>9.702400</td>\n",
       "      <td>7.99585</td>\n",
       "      <td>417.114</td>\n",
       "      <td>1</td>\n",
       "    </tr>\n",
       "    <tr>\n",
       "      <th>1</th>\n",
       "      <td>83</td>\n",
       "      <td>20.690495</td>\n",
       "      <td>92</td>\n",
       "      <td>3.115</td>\n",
       "      <td>0.706897</td>\n",
       "      <td>8.8438</td>\n",
       "      <td>5.429285</td>\n",
       "      <td>4.06405</td>\n",
       "      <td>468.786</td>\n",
       "      <td>1</td>\n",
       "    </tr>\n",
       "    <tr>\n",
       "      <th>2</th>\n",
       "      <td>82</td>\n",
       "      <td>23.124670</td>\n",
       "      <td>91</td>\n",
       "      <td>4.498</td>\n",
       "      <td>1.009651</td>\n",
       "      <td>17.9393</td>\n",
       "      <td>22.432040</td>\n",
       "      <td>9.27715</td>\n",
       "      <td>554.697</td>\n",
       "      <td>1</td>\n",
       "    </tr>\n",
       "    <tr>\n",
       "      <th>3</th>\n",
       "      <td>68</td>\n",
       "      <td>21.367521</td>\n",
       "      <td>77</td>\n",
       "      <td>3.226</td>\n",
       "      <td>0.612725</td>\n",
       "      <td>9.8827</td>\n",
       "      <td>7.169560</td>\n",
       "      <td>12.76600</td>\n",
       "      <td>928.220</td>\n",
       "      <td>1</td>\n",
       "    </tr>\n",
       "    <tr>\n",
       "      <th>4</th>\n",
       "      <td>86</td>\n",
       "      <td>21.111111</td>\n",
       "      <td>92</td>\n",
       "      <td>3.549</td>\n",
       "      <td>0.805386</td>\n",
       "      <td>6.6994</td>\n",
       "      <td>4.819240</td>\n",
       "      <td>10.57635</td>\n",
       "      <td>773.920</td>\n",
       "      <td>1</td>\n",
       "    </tr>\n",
       "    <tr>\n",
       "      <th>...</th>\n",
       "      <td>...</td>\n",
       "      <td>...</td>\n",
       "      <td>...</td>\n",
       "      <td>...</td>\n",
       "      <td>...</td>\n",
       "      <td>...</td>\n",
       "      <td>...</td>\n",
       "      <td>...</td>\n",
       "      <td>...</td>\n",
       "      <td>...</td>\n",
       "    </tr>\n",
       "    <tr>\n",
       "      <th>111</th>\n",
       "      <td>45</td>\n",
       "      <td>26.850000</td>\n",
       "      <td>92</td>\n",
       "      <td>3.330</td>\n",
       "      <td>0.755688</td>\n",
       "      <td>54.6800</td>\n",
       "      <td>12.100000</td>\n",
       "      <td>10.96000</td>\n",
       "      <td>268.230</td>\n",
       "      <td>2</td>\n",
       "    </tr>\n",
       "    <tr>\n",
       "      <th>112</th>\n",
       "      <td>62</td>\n",
       "      <td>26.840000</td>\n",
       "      <td>100</td>\n",
       "      <td>4.530</td>\n",
       "      <td>1.117400</td>\n",
       "      <td>12.4500</td>\n",
       "      <td>21.420000</td>\n",
       "      <td>7.32000</td>\n",
       "      <td>330.160</td>\n",
       "      <td>2</td>\n",
       "    </tr>\n",
       "    <tr>\n",
       "      <th>113</th>\n",
       "      <td>65</td>\n",
       "      <td>32.050000</td>\n",
       "      <td>97</td>\n",
       "      <td>5.730</td>\n",
       "      <td>1.370998</td>\n",
       "      <td>61.4800</td>\n",
       "      <td>22.540000</td>\n",
       "      <td>10.33000</td>\n",
       "      <td>314.050</td>\n",
       "      <td>2</td>\n",
       "    </tr>\n",
       "    <tr>\n",
       "      <th>114</th>\n",
       "      <td>72</td>\n",
       "      <td>25.590000</td>\n",
       "      <td>82</td>\n",
       "      <td>2.820</td>\n",
       "      <td>0.570392</td>\n",
       "      <td>24.9600</td>\n",
       "      <td>33.750000</td>\n",
       "      <td>3.27000</td>\n",
       "      <td>392.460</td>\n",
       "      <td>2</td>\n",
       "    </tr>\n",
       "    <tr>\n",
       "      <th>115</th>\n",
       "      <td>86</td>\n",
       "      <td>27.180000</td>\n",
       "      <td>138</td>\n",
       "      <td>19.910</td>\n",
       "      <td>6.777364</td>\n",
       "      <td>90.2800</td>\n",
       "      <td>14.110000</td>\n",
       "      <td>4.35000</td>\n",
       "      <td>90.090</td>\n",
       "      <td>2</td>\n",
       "    </tr>\n",
       "  </tbody>\n",
       "</table>\n",
       "<p>116 rows × 10 columns</p>\n",
       "</div>"
      ],
      "text/plain": [
       "     Age        BMI  Glucose  Insulin      HOMA   Leptin  Adiponectin  \\\n",
       "0     48  23.500000       70    2.707  0.467409   8.8071     9.702400   \n",
       "1     83  20.690495       92    3.115  0.706897   8.8438     5.429285   \n",
       "2     82  23.124670       91    4.498  1.009651  17.9393    22.432040   \n",
       "3     68  21.367521       77    3.226  0.612725   9.8827     7.169560   \n",
       "4     86  21.111111       92    3.549  0.805386   6.6994     4.819240   \n",
       "..   ...        ...      ...      ...       ...      ...          ...   \n",
       "111   45  26.850000       92    3.330  0.755688  54.6800    12.100000   \n",
       "112   62  26.840000      100    4.530  1.117400  12.4500    21.420000   \n",
       "113   65  32.050000       97    5.730  1.370998  61.4800    22.540000   \n",
       "114   72  25.590000       82    2.820  0.570392  24.9600    33.750000   \n",
       "115   86  27.180000      138   19.910  6.777364  90.2800    14.110000   \n",
       "\n",
       "     Resistin    MCP.1  Classification  \n",
       "0     7.99585  417.114               1  \n",
       "1     4.06405  468.786               1  \n",
       "2     9.27715  554.697               1  \n",
       "3    12.76600  928.220               1  \n",
       "4    10.57635  773.920               1  \n",
       "..        ...      ...             ...  \n",
       "111  10.96000  268.230               2  \n",
       "112   7.32000  330.160               2  \n",
       "113  10.33000  314.050               2  \n",
       "114   3.27000  392.460               2  \n",
       "115   4.35000   90.090               2  \n",
       "\n",
       "[116 rows x 10 columns]"
      ]
     },
     "execution_count": 101,
     "metadata": {},
     "output_type": "execute_result"
    }
   ],
   "source": [
    "import numpy as np\n",
    "import pandas as pd\n",
    "\n",
    "df = pd.read_csv('breast_cancer.csv')\n",
    "df"
   ]
  },
  {
   "cell_type": "code",
   "execution_count": 102,
   "id": "9cf7d1d4-633f-47c4-85d5-9972e540d736",
   "metadata": {},
   "outputs": [
    {
     "data": {
      "text/plain": [
       "Age                 int64\n",
       "BMI               float64\n",
       "Glucose             int64\n",
       "Insulin           float64\n",
       "HOMA              float64\n",
       "Leptin            float64\n",
       "Adiponectin       float64\n",
       "Resistin          float64\n",
       "MCP.1             float64\n",
       "Classification      int64\n",
       "dtype: object"
      ]
     },
     "execution_count": 102,
     "metadata": {},
     "output_type": "execute_result"
    }
   ],
   "source": [
    "df.dtypes"
   ]
  },
  {
   "cell_type": "markdown",
   "id": "917ae167-8795-4b60-b550-52d9cfeccd71",
   "metadata": {
    "tags": []
   },
   "source": [
    "# 2. processing data"
   ]
  },
  {
   "cell_type": "code",
   "execution_count": 103,
   "id": "bda38043-0ff7-4b4c-9623-fd7aa0f39312",
   "metadata": {},
   "outputs": [
    {
     "name": "stdout",
     "output_type": "stream",
     "text": [
      "       Feature  Ranking\n",
      "4         HOMA        1\n",
      "3      Insulin        2\n",
      "1          BMI        3\n",
      "2      Glucose        4\n",
      "7     Resistin        5\n",
      "0          Age        6\n",
      "5       Leptin        7\n",
      "6  Adiponectin        8\n",
      "8        MCP.1        9\n"
     ]
    },
    {
     "name": "stderr",
     "output_type": "stream",
     "text": [
      "C:\\Users\\Luqna Aziziyah\\anaconda3\\lib\\site-packages\\sklearn\\linear_model\\_logistic.py:814: ConvergenceWarning: lbfgs failed to converge (status=1):\n",
      "STOP: TOTAL NO. of ITERATIONS REACHED LIMIT.\n",
      "\n",
      "Increase the number of iterations (max_iter) or scale the data as shown in:\n",
      "    https://scikit-learn.org/stable/modules/preprocessing.html\n",
      "Please also refer to the documentation for alternative solver options:\n",
      "    https://scikit-learn.org/stable/modules/linear_model.html#logistic-regression\n",
      "  n_iter_i = _check_optimize_result(\n",
      "C:\\Users\\Luqna Aziziyah\\anaconda3\\lib\\site-packages\\sklearn\\linear_model\\_logistic.py:814: ConvergenceWarning: lbfgs failed to converge (status=1):\n",
      "STOP: TOTAL NO. of ITERATIONS REACHED LIMIT.\n",
      "\n",
      "Increase the number of iterations (max_iter) or scale the data as shown in:\n",
      "    https://scikit-learn.org/stable/modules/preprocessing.html\n",
      "Please also refer to the documentation for alternative solver options:\n",
      "    https://scikit-learn.org/stable/modules/linear_model.html#logistic-regression\n",
      "  n_iter_i = _check_optimize_result(\n"
     ]
    }
   ],
   "source": [
    "import pandas as pd\n",
    "from sklearn.feature_selection import RFE\n",
    "from sklearn.linear_model import LogisticRegression\n",
    "\n",
    "# Split the dataset into features and target variable\n",
    "X = df.drop('Classification', axis=1)\n",
    "y = df['Classification']\n",
    "\n",
    "# Create a logistic regression model\n",
    "model = LogisticRegression()\n",
    "\n",
    "# Create the RFE object and specify the number of features to select (k)\n",
    "rfe = RFE(estimator=model, n_features_to_select=1)\n",
    "\n",
    "# Fit the RFE model to the data\n",
    "rfe.fit(X, y)\n",
    "\n",
    "# Print the ranking of the features\n",
    "feature_ranking = pd.DataFrame({'Feature': X.columns, 'Ranking': rfe.ranking_})\n",
    "feature_ranking = feature_ranking.sort_values(by='Ranking')\n",
    "print(feature_ranking)\n"
   ]
  },
  {
   "cell_type": "code",
   "execution_count": 104,
   "id": "aced261d-da15-4c5c-965e-bd556800bfa8",
   "metadata": {},
   "outputs": [
    {
     "data": {
      "text/plain": [
       "Age               float64\n",
       "BMI               float64\n",
       "Glucose           float64\n",
       "Insulin           float64\n",
       "HOMA              float64\n",
       "Leptin            float64\n",
       "Adiponectin       float64\n",
       "Resistin          float64\n",
       "MCP.1             float64\n",
       "Classification    float64\n",
       "dtype: object"
      ]
     },
     "execution_count": 104,
     "metadata": {},
     "output_type": "execute_result"
    }
   ],
   "source": [
    "#ubah tipe data kolom numerikal menjadi float\n",
    "for col in df:\n",
    "    df = df.astype('float')\n",
    "    \n",
    "df.dtypes"
   ]
  },
  {
   "cell_type": "code",
   "execution_count": 105,
   "id": "98b674c2-84f8-48a2-a52a-a0072af492b0",
   "metadata": {},
   "outputs": [
    {
     "name": "stdout",
     "output_type": "stream",
     "text": [
      "Jumlah data yang duplikat:  0\n",
      "Jumlah data sebelum dihapus:  116\n",
      "Jumlah data setelah dihapus:  116\n"
     ]
    }
   ],
   "source": [
    "import pandas as pd\n",
    "\n",
    "# Mendeteksi data duplikat\n",
    "duplikat = df.duplicated()\n",
    "\n",
    "# Menampilkan jumlah data yang duplikat\n",
    "print(\"Jumlah data yang duplikat: \", duplikat.sum())\n",
    "\n",
    "# Menghapus data duplikat berdasarkan semua kolom\n",
    "df = df.drop_duplicates()\n",
    "\n",
    "print(\"Jumlah data sebelum dihapus: \", len(df)+duplikat.sum())\n",
    "print(\"Jumlah data setelah dihapus: \", len(df))"
   ]
  },
  {
   "cell_type": "code",
   "execution_count": null,
   "id": "8cf560c1-550e-4276-a3d8-d53ab2d9e2c6",
   "metadata": {},
   "outputs": [],
   "source": []
  },
  {
   "cell_type": "code",
   "execution_count": null,
   "id": "7f670b79-a9e7-404e-ad0a-b998792eab56",
   "metadata": {},
   "outputs": [],
   "source": []
  },
  {
   "cell_type": "code",
   "execution_count": 106,
   "id": "6b61dce0-69a7-4a96-8bc1-13fd176dbe72",
   "metadata": {},
   "outputs": [
    {
     "data": {
      "text/html": [
       "<div>\n",
       "<style scoped>\n",
       "    .dataframe tbody tr th:only-of-type {\n",
       "        vertical-align: middle;\n",
       "    }\n",
       "\n",
       "    .dataframe tbody tr th {\n",
       "        vertical-align: top;\n",
       "    }\n",
       "\n",
       "    .dataframe thead th {\n",
       "        text-align: right;\n",
       "    }\n",
       "</style>\n",
       "<table border=\"1\" class=\"dataframe\">\n",
       "  <thead>\n",
       "    <tr style=\"text-align: right;\">\n",
       "      <th></th>\n",
       "      <th>Age</th>\n",
       "      <th>BMI</th>\n",
       "      <th>Glucose</th>\n",
       "      <th>Insulin</th>\n",
       "      <th>HOMA</th>\n",
       "      <th>Leptin</th>\n",
       "      <th>Resistin</th>\n",
       "      <th>MCP.1</th>\n",
       "      <th>Classification</th>\n",
       "    </tr>\n",
       "  </thead>\n",
       "  <tbody>\n",
       "    <tr>\n",
       "      <th>0</th>\n",
       "      <td>48.0</td>\n",
       "      <td>23.500000</td>\n",
       "      <td>70.0</td>\n",
       "      <td>2.707</td>\n",
       "      <td>0.467409</td>\n",
       "      <td>8.8071</td>\n",
       "      <td>7.99585</td>\n",
       "      <td>417.114</td>\n",
       "      <td>1.0</td>\n",
       "    </tr>\n",
       "    <tr>\n",
       "      <th>1</th>\n",
       "      <td>83.0</td>\n",
       "      <td>20.690495</td>\n",
       "      <td>92.0</td>\n",
       "      <td>3.115</td>\n",
       "      <td>0.706897</td>\n",
       "      <td>8.8438</td>\n",
       "      <td>4.06405</td>\n",
       "      <td>468.786</td>\n",
       "      <td>1.0</td>\n",
       "    </tr>\n",
       "    <tr>\n",
       "      <th>2</th>\n",
       "      <td>82.0</td>\n",
       "      <td>23.124670</td>\n",
       "      <td>91.0</td>\n",
       "      <td>4.498</td>\n",
       "      <td>1.009651</td>\n",
       "      <td>17.9393</td>\n",
       "      <td>9.27715</td>\n",
       "      <td>554.697</td>\n",
       "      <td>1.0</td>\n",
       "    </tr>\n",
       "    <tr>\n",
       "      <th>3</th>\n",
       "      <td>68.0</td>\n",
       "      <td>21.367521</td>\n",
       "      <td>77.0</td>\n",
       "      <td>3.226</td>\n",
       "      <td>0.612725</td>\n",
       "      <td>9.8827</td>\n",
       "      <td>12.76600</td>\n",
       "      <td>928.220</td>\n",
       "      <td>1.0</td>\n",
       "    </tr>\n",
       "    <tr>\n",
       "      <th>4</th>\n",
       "      <td>86.0</td>\n",
       "      <td>21.111111</td>\n",
       "      <td>92.0</td>\n",
       "      <td>3.549</td>\n",
       "      <td>0.805386</td>\n",
       "      <td>6.6994</td>\n",
       "      <td>10.57635</td>\n",
       "      <td>773.920</td>\n",
       "      <td>1.0</td>\n",
       "    </tr>\n",
       "    <tr>\n",
       "      <th>...</th>\n",
       "      <td>...</td>\n",
       "      <td>...</td>\n",
       "      <td>...</td>\n",
       "      <td>...</td>\n",
       "      <td>...</td>\n",
       "      <td>...</td>\n",
       "      <td>...</td>\n",
       "      <td>...</td>\n",
       "      <td>...</td>\n",
       "    </tr>\n",
       "    <tr>\n",
       "      <th>111</th>\n",
       "      <td>45.0</td>\n",
       "      <td>26.850000</td>\n",
       "      <td>92.0</td>\n",
       "      <td>3.330</td>\n",
       "      <td>0.755688</td>\n",
       "      <td>54.6800</td>\n",
       "      <td>10.96000</td>\n",
       "      <td>268.230</td>\n",
       "      <td>2.0</td>\n",
       "    </tr>\n",
       "    <tr>\n",
       "      <th>112</th>\n",
       "      <td>62.0</td>\n",
       "      <td>26.840000</td>\n",
       "      <td>100.0</td>\n",
       "      <td>4.530</td>\n",
       "      <td>1.117400</td>\n",
       "      <td>12.4500</td>\n",
       "      <td>7.32000</td>\n",
       "      <td>330.160</td>\n",
       "      <td>2.0</td>\n",
       "    </tr>\n",
       "    <tr>\n",
       "      <th>113</th>\n",
       "      <td>65.0</td>\n",
       "      <td>32.050000</td>\n",
       "      <td>97.0</td>\n",
       "      <td>5.730</td>\n",
       "      <td>1.370998</td>\n",
       "      <td>61.4800</td>\n",
       "      <td>10.33000</td>\n",
       "      <td>314.050</td>\n",
       "      <td>2.0</td>\n",
       "    </tr>\n",
       "    <tr>\n",
       "      <th>114</th>\n",
       "      <td>72.0</td>\n",
       "      <td>25.590000</td>\n",
       "      <td>82.0</td>\n",
       "      <td>2.820</td>\n",
       "      <td>0.570392</td>\n",
       "      <td>24.9600</td>\n",
       "      <td>3.27000</td>\n",
       "      <td>392.460</td>\n",
       "      <td>2.0</td>\n",
       "    </tr>\n",
       "    <tr>\n",
       "      <th>115</th>\n",
       "      <td>86.0</td>\n",
       "      <td>27.180000</td>\n",
       "      <td>138.0</td>\n",
       "      <td>19.910</td>\n",
       "      <td>6.777364</td>\n",
       "      <td>90.2800</td>\n",
       "      <td>4.35000</td>\n",
       "      <td>90.090</td>\n",
       "      <td>2.0</td>\n",
       "    </tr>\n",
       "  </tbody>\n",
       "</table>\n",
       "<p>116 rows × 9 columns</p>\n",
       "</div>"
      ],
      "text/plain": [
       "      Age        BMI  Glucose  Insulin      HOMA   Leptin  Resistin    MCP.1  \\\n",
       "0    48.0  23.500000     70.0    2.707  0.467409   8.8071   7.99585  417.114   \n",
       "1    83.0  20.690495     92.0    3.115  0.706897   8.8438   4.06405  468.786   \n",
       "2    82.0  23.124670     91.0    4.498  1.009651  17.9393   9.27715  554.697   \n",
       "3    68.0  21.367521     77.0    3.226  0.612725   9.8827  12.76600  928.220   \n",
       "4    86.0  21.111111     92.0    3.549  0.805386   6.6994  10.57635  773.920   \n",
       "..    ...        ...      ...      ...       ...      ...       ...      ...   \n",
       "111  45.0  26.850000     92.0    3.330  0.755688  54.6800  10.96000  268.230   \n",
       "112  62.0  26.840000    100.0    4.530  1.117400  12.4500   7.32000  330.160   \n",
       "113  65.0  32.050000     97.0    5.730  1.370998  61.4800  10.33000  314.050   \n",
       "114  72.0  25.590000     82.0    2.820  0.570392  24.9600   3.27000  392.460   \n",
       "115  86.0  27.180000    138.0   19.910  6.777364  90.2800   4.35000   90.090   \n",
       "\n",
       "     Classification  \n",
       "0               1.0  \n",
       "1               1.0  \n",
       "2               1.0  \n",
       "3               1.0  \n",
       "4               1.0  \n",
       "..              ...  \n",
       "111             2.0  \n",
       "112             2.0  \n",
       "113             2.0  \n",
       "114             2.0  \n",
       "115             2.0  \n",
       "\n",
       "[116 rows x 9 columns]"
      ]
     },
     "execution_count": 106,
     "metadata": {},
     "output_type": "execute_result"
    }
   ],
   "source": [
    "df= df.drop('Adiponectin',axis=1)\n",
    "df"
   ]
  },
  {
   "cell_type": "code",
   "execution_count": null,
   "id": "688863a4-0490-4082-9cfc-93c65a2bb537",
   "metadata": {},
   "outputs": [],
   "source": []
  },
  {
   "cell_type": "code",
   "execution_count": 107,
   "id": "cd3614fb-cbd6-461f-8c2b-e674c8a5bb3c",
   "metadata": {},
   "outputs": [
    {
     "data": {
      "text/plain": [
       "Age               0\n",
       "BMI               0\n",
       "Glucose           0\n",
       "Insulin           0\n",
       "HOMA              0\n",
       "Leptin            0\n",
       "Resistin          0\n",
       "MCP.1             0\n",
       "Classification    0\n",
       "dtype: int64"
      ]
     },
     "execution_count": 107,
     "metadata": {},
     "output_type": "execute_result"
    }
   ],
   "source": [
    "df.isna().sum()"
   ]
  },
  {
   "cell_type": "code",
   "execution_count": 108,
   "id": "c0fd0a65-831a-4a50-ac59-ddf040b61436",
   "metadata": {},
   "outputs": [
    {
     "data": {
      "image/png": "[encoded data removed]",
      "text/plain": [
       "<Figure size 640x480 with 1 Axes>"
      ]
     },
     "metadata": {},
     "output_type": "display_data"
    }
   ],
   "source": [
    "import pandas as pd\n",
    "import matplotlib.pyplot as plt\n",
    "import seaborn as sns\n",
    "\n",
    "# Membuat box plot\n",
    "sns.boxplot(data=df, orient='h')\n",
    "plt.title('Box Plot Outlier data diabetes')\n",
    "plt.show()\n"
   ]
  },
  {
   "cell_type": "code",
   "execution_count": 109,
   "id": "c77b3458-ceaf-4120-914b-12f17623de6e",
   "metadata": {},
   "outputs": [
    {
     "name": "stdout",
     "output_type": "stream",
     "text": [
      "Outliers: [47, 78, 87, 88, 89, 90, 93, 94, 105, 108, 109, 115]\n"
     ]
    },
    {
     "data": {
      "image/png": "[encoded data removed]",
      "text/plain": [
       "<Figure size 640x480 with 1 Axes>"
      ]
     },
     "metadata": {},
     "output_type": "display_data"
    }
   ],
   "source": [
    "import numpy as np\n",
    "import pandas as pd\n",
    "import matplotlib.pyplot as plt\n",
    "\n",
    "# Mendapatkan kolom yang ingin dianalisis\n",
    "data = df['Glucose'].values  \n",
    "\n",
    "# Mendeteksi outlier menggunakan metode IQR\n",
    "def detect_outliers_iqr(data):\n",
    "    Q1 = np.percentile(data, 25)\n",
    "    Q3 = np.percentile(data, 75)\n",
    "    IQR = Q3 - Q1\n",
    "    lower_bound = Q1 - 1.5 * IQR\n",
    "    upper_bound = Q3 + 1.5 * IQR\n",
    "    outliers = []\n",
    "    for i, value in enumerate(data):\n",
    "        if value < lower_bound or value > upper_bound:\n",
    "            outliers.append(i)\n",
    "    return outliers\n",
    "\n",
    "outliers = detect_outliers_iqr(data)\n",
    "print(\"Outliers:\", outliers)\n",
    "\n",
    "# Visualisasi dalam scatter plot\n",
    "plt.scatter(range(len(data)), data, color='b', label='Data')\n",
    "plt.scatter(outliers, [data[i] for i in outliers], color='r', label='Outliers')\n",
    "plt.xlabel('Index')\n",
    "plt.ylabel('Data Value o3')\n",
    "plt.title('Outlier Detection using IQR')\n",
    "plt.legend()\n",
    "plt.show()\n"
   ]
  },
  {
   "cell_type": "code",
   "execution_count": 110,
   "id": "781b02a8-1418-4171-b76f-456ba3863def",
   "metadata": {},
   "outputs": [
    {
     "name": "stdout",
     "output_type": "stream",
     "text": [
      "Outliers: [33, 50, 55, 71, 74, 78, 79, 82, 87, 90, 92, 93, 94]\n"
     ]
    },
    {
     "data": {
      "image/png": "[encoded data removed]",
      "text/plain": [
       "<Figure size 640x480 with 1 Axes>"
      ]
     },
     "metadata": {},
     "output_type": "display_data"
    }
   ],
   "source": [
    "import numpy as np\n",
    "import pandas as pd\n",
    "import matplotlib.pyplot as plt\n",
    "\n",
    "# Mendapatkan kolom yang ingin dianalisis\n",
    "data = df['Insulin'].values  \n",
    "\n",
    "# Mendeteksi outlier menggunakan metode IQR\n",
    "def detect_outliers_iqr(data):\n",
    "    Q1 = np.percentile(data, 25)\n",
    "    Q3 = np.percentile(data, 75)\n",
    "    IQR = Q3 - Q1\n",
    "    lower_bound = Q1 - 1.5 * IQR\n",
    "    upper_bound = Q3 + 1.5 * IQR\n",
    "    outliers = []\n",
    "    for i, value in enumerate(data):\n",
    "        if value < lower_bound or value > upper_bound:\n",
    "            outliers.append(i)\n",
    "    return outliers\n",
    "\n",
    "outliers = detect_outliers_iqr(data)\n",
    "print(\"Outliers:\", outliers)\n",
    "\n",
    "# Visualisasi dalam scatter plot\n",
    "plt.scatter(range(len(data)), data, color='b', label='Data')\n",
    "plt.scatter(outliers, [data[i] for i in outliers], color='r', label='Outliers')\n",
    "plt.xlabel('Index')\n",
    "plt.ylabel('Data Value o3')\n",
    "plt.title('Outlier Detection using IQR')\n",
    "plt.legend()\n",
    "plt.show()\n"
   ]
  },
  {
   "cell_type": "code",
   "execution_count": 111,
   "id": "5c8d9016-2c2a-4ca2-a792-2b876055708d",
   "metadata": {},
   "outputs": [
    {
     "name": "stdout",
     "output_type": "stream",
     "text": [
      "Outliers: [50, 71, 74, 78, 82, 87, 88, 90, 92, 93, 94, 115]\n"
     ]
    },
    {
     "data": {
      "image/png": "[encoded data removed]",
      "text/plain": [
       "<Figure size 640x480 with 1 Axes>"
      ]
     },
     "metadata": {},
     "output_type": "display_data"
    }
   ],
   "source": [
    "import numpy as np\n",
    "import pandas as pd\n",
    "import matplotlib.pyplot as plt\n",
    "\n",
    "# Mendapatkan kolom yang ingin dianalisis\n",
    "data = df['HOMA'].values  \n",
    "\n",
    "# Mendeteksi outlier menggunakan metode IQR\n",
    "def detect_outliers_iqr(data):\n",
    "    Q1 = np.percentile(data, 25)\n",
    "    Q3 = np.percentile(data, 75)\n",
    "    IQR = Q3 - Q1\n",
    "    lower_bound = Q1 - 1.5 * IQR\n",
    "    upper_bound = Q3 + 1.5 * IQR\n",
    "    outliers = []\n",
    "    for i, value in enumerate(data):\n",
    "        if value < lower_bound or value > upper_bound:\n",
    "            outliers.append(i)\n",
    "    return outliers\n",
    "\n",
    "outliers = detect_outliers_iqr(data)\n",
    "print(\"Outliers:\", outliers)\n",
    "\n",
    "# Visualisasi dalam scatter plot\n",
    "plt.scatter(range(len(data)), data, color='b', label='Data')\n",
    "plt.scatter(outliers, [data[i] for i in outliers], color='r', label='Outliers')\n",
    "plt.xlabel('Index')\n",
    "plt.ylabel('Data Value o3')\n",
    "plt.title('Outlier Detection using IQR')\n",
    "plt.legend()\n",
    "plt.show()\n"
   ]
  },
  {
   "cell_type": "code",
   "execution_count": null,
   "id": "13b1d38c-4999-4718-b2e3-a0fa4555d40b",
   "metadata": {},
   "outputs": [],
   "source": []
  },
  {
   "cell_type": "code",
   "execution_count": 112,
   "id": "c90438f7-45d4-489f-b79e-4234a6211761",
   "metadata": {},
   "outputs": [
    {
     "name": "stdout",
     "output_type": "stream",
     "text": [
      "Outliers: [37, 77, 83, 84, 87, 88, 98]\n"
     ]
    },
    {
     "data": {
      "image/png": "[encoded data removed]",
      "text/plain": [
       "<Figure size 640x480 with 1 Axes>"
      ]
     },
     "metadata": {},
     "output_type": "display_data"
    }
   ],
   "source": [
    "import numpy as np\n",
    "import pandas as pd\n",
    "import matplotlib.pyplot as plt\n",
    "\n",
    "# Mendapatkan kolom yang ingin dianalisis\n",
    "data = df['Resistin'].values  \n",
    "\n",
    "# Mendeteksi outlier menggunakan metode IQR\n",
    "def detect_outliers_iqr(data):\n",
    "    Q1 = np.percentile(data, 25)\n",
    "    Q3 = np.percentile(data, 75)\n",
    "    IQR = Q3 - Q1\n",
    "    lower_bound = Q1 - 1.5 * IQR\n",
    "    upper_bound = Q3 + 1.5 * IQR\n",
    "    outliers = []\n",
    "    for i, value in enumerate(data):\n",
    "        if value < lower_bound or value > upper_bound:\n",
    "            outliers.append(i)\n",
    "    return outliers\n",
    "\n",
    "outliers = detect_outliers_iqr(data)\n",
    "print(\"Outliers:\", outliers)\n",
    "\n",
    "# Visualisasi dalam scatter plot\n",
    "plt.scatter(range(len(data)), data, color='b', label='Data')\n",
    "plt.scatter(outliers, [data[i] for i in outliers], color='r', label='Outliers')\n",
    "plt.xlabel('Index')\n",
    "plt.ylabel('Data Value o3')\n",
    "plt.title('Outlier Detection using IQR')\n",
    "plt.legend()\n",
    "plt.show()\n"
   ]
  },
  {
   "cell_type": "code",
   "execution_count": 113,
   "id": "b7cd4862-aed7-4d72-a620-5110f881954f",
   "metadata": {},
   "outputs": [
    {
     "name": "stdout",
     "output_type": "stream",
     "text": [
      "Before Winsorizing:\n",
      "              Age         BMI     Glucose     Insulin        HOMA      Leptin  \\\n",
      "count  116.000000  116.000000  116.000000  116.000000  116.000000  116.000000   \n",
      "mean    57.301724   27.582111   97.793103   10.012086    2.694988   26.615080   \n",
      "std     16.112766    5.020136   22.525162   10.067768    3.642043   19.183294   \n",
      "min     24.000000   18.370000   60.000000    2.432000    0.467409    4.311000   \n",
      "25%     45.000000   22.973205   85.750000    4.359250    0.917966   12.313675   \n",
      "50%     56.000000   27.662416   92.000000    5.924500    1.380939   20.271000   \n",
      "75%     71.000000   31.241442  102.000000   11.189250    2.857787   37.378300   \n",
      "max     89.000000   38.578759  201.000000   58.460000   25.050342   90.280000   \n",
      "\n",
      "         Resistin        MCP.1  Classification  \n",
      "count  116.000000   116.000000      116.000000  \n",
      "mean    14.725966   534.647000        1.551724  \n",
      "std     12.390646   345.912663        0.499475  \n",
      "min      3.210000    45.843000        1.000000  \n",
      "25%      6.881763   269.978250        1.000000  \n",
      "50%     10.827740   471.322500        2.000000  \n",
      "75%     17.755207   700.085000        2.000000  \n",
      "max     82.100000  1698.440000        2.000000  \n",
      "\n",
      "After Winsorizing:\n",
      "              Age         BMI     Glucose     Insulin        HOMA      Leptin  \\\n",
      "count  116.000000  116.000000  116.000000  116.000000  116.000000  116.000000   \n",
      "mean    57.301724   27.582111   95.280172    8.640390    2.142166   26.286577   \n",
      "std     16.112766    5.020136   14.436919    6.043225    1.683521   18.204332   \n",
      "min     24.000000   18.370000   61.375000    2.432000    0.467409    4.311000   \n",
      "25%     45.000000   22.973205   85.750000    4.359250    0.917966   12.313675   \n",
      "50%     56.000000   27.662416   92.000000    5.924500    1.380939   20.271000   \n",
      "75%     71.000000   31.241442  102.000000   11.189250    2.857787   37.378300   \n",
      "max     89.000000   38.578759  126.375000   21.434250    5.767519   74.975237   \n",
      "\n",
      "         Resistin        MCP.1  Classification  \n",
      "count  116.000000   116.000000      116.000000  \n",
      "mean    13.546657   522.467866        1.551724  \n",
      "std      8.523413   308.626760        0.499475  \n",
      "min      3.210000    45.843000        1.000000  \n",
      "25%      6.881763   269.978250        1.000000  \n",
      "50%     10.827740   471.322500        2.000000  \n",
      "75%     17.755207   700.085000        2.000000  \n",
      "max     34.065375  1345.245125        2.000000  \n"
     ]
    }
   ],
   "source": [
    "import pandas as pd\n",
    "import numpy as np\n",
    "\n",
    "def outlier_num(df):\n",
    "    num_cols = df.select_dtypes(include=np.number).columns.tolist()  # Get numerical columns dynamically\n",
    "    # Display summary statistics for the numerical columns before and after Winsorizing\n",
    "    print(\"Before Winsorizing:\")\n",
    "    print(df.describe())\n",
    "    print(\"\\nAfter Winsorizing:\")\n",
    "    for col in num_cols:\n",
    "        q1 = np.percentile(df[col], 25)\n",
    "        q3 = np.percentile(df[col], 75)\n",
    "        iqr = q3 - q1\n",
    "        lower_bound = q1 - 1.5 * iqr\n",
    "        upper_bound = q3 + 1.5 * iqr\n",
    "        df[col] = np.where(df[col] < lower_bound, lower_bound, df[col])\n",
    "        df[col] = np.where(df[col] > upper_bound, upper_bound, df[col])\n",
    "    print(df[num_cols].describe())\n",
    "\n",
    "outlier_num(df)\n"
   ]
  },
  {
   "cell_type": "code",
   "execution_count": null,
   "id": "5f301de4-aaf6-4b41-a509-28f3ebd6d256",
   "metadata": {},
   "outputs": [],
   "source": []
  },
  {
   "cell_type": "code",
   "execution_count": 114,
   "id": "f0fc4452-5dfd-4f49-b3f1-3664935be9d1",
   "metadata": {},
   "outputs": [
    {
     "name": "stdout",
     "output_type": "stream",
     "text": [
      "    Feature  Ranking\n",
      "4      HOMA        1\n",
      "1       BMI        2\n",
      "6  Resistin        3\n",
      "2   Glucose        4\n",
      "0       Age        5\n",
      "5    Leptin        6\n",
      "3   Insulin        7\n",
      "7     MCP.1        8\n"
     ]
    },
    {
     "name": "stderr",
     "output_type": "stream",
     "text": [
      "C:\\Users\\Luqna Aziziyah\\anaconda3\\lib\\site-packages\\sklearn\\linear_model\\_logistic.py:814: ConvergenceWarning: lbfgs failed to converge (status=1):\n",
      "STOP: TOTAL NO. of ITERATIONS REACHED LIMIT.\n",
      "\n",
      "Increase the number of iterations (max_iter) or scale the data as shown in:\n",
      "    https://scikit-learn.org/stable/modules/preprocessing.html\n",
      "Please also refer to the documentation for alternative solver options:\n",
      "    https://scikit-learn.org/stable/modules/linear_model.html#logistic-regression\n",
      "  n_iter_i = _check_optimize_result(\n",
      "C:\\Users\\Luqna Aziziyah\\anaconda3\\lib\\site-packages\\sklearn\\linear_model\\_logistic.py:814: ConvergenceWarning: lbfgs failed to converge (status=1):\n",
      "STOP: TOTAL NO. of ITERATIONS REACHED LIMIT.\n",
      "\n",
      "Increase the number of iterations (max_iter) or scale the data as shown in:\n",
      "    https://scikit-learn.org/stable/modules/preprocessing.html\n",
      "Please also refer to the documentation for alternative solver options:\n",
      "    https://scikit-learn.org/stable/modules/linear_model.html#logistic-regression\n",
      "  n_iter_i = _check_optimize_result(\n"
     ]
    }
   ],
   "source": [
    "import pandas as pd\n",
    "from sklearn.feature_selection import RFE\n",
    "from sklearn.linear_model import LogisticRegression\n",
    "\n",
    "# Split the dataset into features and target variable\n",
    "X = df.drop('Classification', axis=1)\n",
    "y = df['Classification']\n",
    "\n",
    "# Create a logistic regression model\n",
    "model = LogisticRegression()\n",
    "\n",
    "# Create the RFE object and specify the number of features to select (k)\n",
    "rfe = RFE(estimator=model, n_features_to_select=1)\n",
    "\n",
    "# Fit the RFE model to the data\n",
    "rfe.fit(X, y)\n",
    "\n",
    "# Print the ranking of the features\n",
    "feature_ranking = pd.DataFrame({'Feature': X.columns, 'Ranking': rfe.ranking_})\n",
    "feature_ranking = feature_ranking.sort_values(by='Ranking')\n",
    "print(feature_ranking)\n"
   ]
  },
  {
   "cell_type": "code",
   "execution_count": 115,
   "id": "c8706678-81f6-4a47-a275-bfffbea8d9e6",
   "metadata": {},
   "outputs": [
    {
     "name": "stdout",
     "output_type": "stream",
     "text": [
      "                     Age       BMI   Glucose   Insulin      HOMA    Leptin  \\\n",
      "Age             1.000000  0.008530  0.200064  0.024855  0.047586  0.093573   \n",
      "BMI             0.008530  1.000000  0.160604  0.246839  0.238334  0.583212   \n",
      "Glucose         0.200064  0.160604  1.000000  0.452239  0.583611  0.287057   \n",
      "Insulin         0.024855  0.246839  0.452239  1.000000  0.973651  0.387364   \n",
      "HOMA            0.047586  0.238334  0.583611  0.973651  1.000000  0.371799   \n",
      "Leptin          0.093573  0.583212  0.287057  0.387364  0.371799  1.000000   \n",
      "Resistin       -0.054703  0.187999  0.103142  0.153289  0.167957  0.197968   \n",
      "MCP.1           0.004099  0.240441  0.042489  0.162756  0.178057  0.036180   \n",
      "Classification -0.043555 -0.132586  0.440390  0.274489  0.331045 -0.009337   \n",
      "\n",
      "                Resistin     MCP.1  Classification  \n",
      "Age            -0.054703  0.004099       -0.043555  \n",
      "BMI             0.187999  0.240441       -0.132586  \n",
      "Glucose         0.103142  0.042489        0.440390  \n",
      "Insulin         0.153289  0.162756        0.274489  \n",
      "HOMA            0.167957  0.178057        0.331045  \n",
      "Leptin          0.197968  0.036180       -0.009337  \n",
      "Resistin        1.000000  0.450238        0.303301  \n",
      "MCP.1           0.450238  1.000000        0.066695  \n",
      "Classification  0.303301  0.066695        1.000000  \n"
     ]
    },
    {
     "data": {
      "image/png": "[encoded data removed]",
      "text/plain": [
       "<Figure size 640x480 with 2 Axes>"
      ]
     },
     "metadata": {},
     "output_type": "display_data"
    }
   ],
   "source": [
    "# melihat korelasi sebelum dianalisis\n",
    "\n",
    "import matplotlib.pyplot as plt\n",
    "import seaborn as sns\n",
    "\n",
    "# melihat korelasi antara variabel pada dataset menggunakan metode Pearson correlation\n",
    "corr_matrix = df.corr(method='pearson')\n",
    "print(corr_matrix)\n",
    "\n",
    "# membuat heatmap korelasi\n",
    "sns.heatmap(corr_matrix, annot=True, cmap='coolwarm')\n",
    "plt.title(\"Heatmap Korelasi Pearson\")\n",
    "plt.show()\n"
   ]
  },
  {
   "cell_type": "code",
   "execution_count": null,
   "id": "ca5c480a-c53a-4e87-a5dd-28baaa2d1069",
   "metadata": {},
   "outputs": [],
   "source": []
  },
  {
   "cell_type": "code",
   "execution_count": 116,
   "id": "6277ac9e-ef34-4d9a-86bb-39414fa7cd53",
   "metadata": {},
   "outputs": [],
   "source": [
    "for col in df:\n",
    "    df['Classification'] = df['Classification'].astype('int')"
   ]
  },
  {
   "cell_type": "code",
   "execution_count": 117,
   "id": "008dc0ce-dca9-4810-aa98-662cf9123295",
   "metadata": {},
   "outputs": [
    {
     "data": {
      "text/html": [
       "<div>\n",
       "<style scoped>\n",
       "    .dataframe tbody tr th:only-of-type {\n",
       "        vertical-align: middle;\n",
       "    }\n",
       "\n",
       "    .dataframe tbody tr th {\n",
       "        vertical-align: top;\n",
       "    }\n",
       "\n",
       "    .dataframe thead th {\n",
       "        text-align: right;\n",
       "    }\n",
       "</style>\n",
       "<table border=\"1\" class=\"dataframe\">\n",
       "  <thead>\n",
       "    <tr style=\"text-align: right;\">\n",
       "      <th></th>\n",
       "      <th>Age</th>\n",
       "      <th>BMI</th>\n",
       "      <th>Glucose</th>\n",
       "      <th>Insulin</th>\n",
       "      <th>HOMA</th>\n",
       "      <th>Leptin</th>\n",
       "      <th>Resistin</th>\n",
       "      <th>MCP.1</th>\n",
       "      <th>Classification</th>\n",
       "    </tr>\n",
       "  </thead>\n",
       "  <tbody>\n",
       "    <tr>\n",
       "      <th>0</th>\n",
       "      <td>0.369</td>\n",
       "      <td>0.254</td>\n",
       "      <td>0.133</td>\n",
       "      <td>0.014</td>\n",
       "      <td>0.000</td>\n",
       "      <td>0.064</td>\n",
       "      <td>0.155</td>\n",
       "      <td>0.286</td>\n",
       "      <td>1</td>\n",
       "    </tr>\n",
       "    <tr>\n",
       "      <th>1</th>\n",
       "      <td>0.908</td>\n",
       "      <td>0.115</td>\n",
       "      <td>0.471</td>\n",
       "      <td>0.036</td>\n",
       "      <td>0.045</td>\n",
       "      <td>0.064</td>\n",
       "      <td>0.028</td>\n",
       "      <td>0.325</td>\n",
       "      <td>1</td>\n",
       "    </tr>\n",
       "    <tr>\n",
       "      <th>2</th>\n",
       "      <td>0.892</td>\n",
       "      <td>0.235</td>\n",
       "      <td>0.456</td>\n",
       "      <td>0.109</td>\n",
       "      <td>0.102</td>\n",
       "      <td>0.193</td>\n",
       "      <td>0.197</td>\n",
       "      <td>0.392</td>\n",
       "      <td>1</td>\n",
       "    </tr>\n",
       "    <tr>\n",
       "      <th>3</th>\n",
       "      <td>0.677</td>\n",
       "      <td>0.148</td>\n",
       "      <td>0.240</td>\n",
       "      <td>0.042</td>\n",
       "      <td>0.027</td>\n",
       "      <td>0.079</td>\n",
       "      <td>0.310</td>\n",
       "      <td>0.679</td>\n",
       "      <td>1</td>\n",
       "    </tr>\n",
       "    <tr>\n",
       "      <th>4</th>\n",
       "      <td>0.954</td>\n",
       "      <td>0.136</td>\n",
       "      <td>0.471</td>\n",
       "      <td>0.059</td>\n",
       "      <td>0.064</td>\n",
       "      <td>0.034</td>\n",
       "      <td>0.239</td>\n",
       "      <td>0.560</td>\n",
       "      <td>1</td>\n",
       "    </tr>\n",
       "    <tr>\n",
       "      <th>...</th>\n",
       "      <td>...</td>\n",
       "      <td>...</td>\n",
       "      <td>...</td>\n",
       "      <td>...</td>\n",
       "      <td>...</td>\n",
       "      <td>...</td>\n",
       "      <td>...</td>\n",
       "      <td>...</td>\n",
       "      <td>...</td>\n",
       "    </tr>\n",
       "    <tr>\n",
       "      <th>111</th>\n",
       "      <td>0.323</td>\n",
       "      <td>0.420</td>\n",
       "      <td>0.471</td>\n",
       "      <td>0.047</td>\n",
       "      <td>0.054</td>\n",
       "      <td>0.713</td>\n",
       "      <td>0.251</td>\n",
       "      <td>0.171</td>\n",
       "      <td>2</td>\n",
       "    </tr>\n",
       "    <tr>\n",
       "      <th>112</th>\n",
       "      <td>0.585</td>\n",
       "      <td>0.419</td>\n",
       "      <td>0.594</td>\n",
       "      <td>0.110</td>\n",
       "      <td>0.123</td>\n",
       "      <td>0.115</td>\n",
       "      <td>0.133</td>\n",
       "      <td>0.219</td>\n",
       "      <td>2</td>\n",
       "    </tr>\n",
       "    <tr>\n",
       "      <th>113</th>\n",
       "      <td>0.631</td>\n",
       "      <td>0.677</td>\n",
       "      <td>0.548</td>\n",
       "      <td>0.174</td>\n",
       "      <td>0.170</td>\n",
       "      <td>0.809</td>\n",
       "      <td>0.231</td>\n",
       "      <td>0.206</td>\n",
       "      <td>2</td>\n",
       "    </tr>\n",
       "    <tr>\n",
       "      <th>114</th>\n",
       "      <td>0.738</td>\n",
       "      <td>0.357</td>\n",
       "      <td>0.317</td>\n",
       "      <td>0.020</td>\n",
       "      <td>0.019</td>\n",
       "      <td>0.292</td>\n",
       "      <td>0.002</td>\n",
       "      <td>0.267</td>\n",
       "      <td>2</td>\n",
       "    </tr>\n",
       "    <tr>\n",
       "      <th>115</th>\n",
       "      <td>0.954</td>\n",
       "      <td>0.436</td>\n",
       "      <td>1.000</td>\n",
       "      <td>0.920</td>\n",
       "      <td>1.000</td>\n",
       "      <td>1.000</td>\n",
       "      <td>0.037</td>\n",
       "      <td>0.034</td>\n",
       "      <td>2</td>\n",
       "    </tr>\n",
       "  </tbody>\n",
       "</table>\n",
       "<p>116 rows × 9 columns</p>\n",
       "</div>"
      ],
      "text/plain": [
       "       Age    BMI  Glucose  Insulin   HOMA  Leptin  Resistin  MCP.1  \\\n",
       "0    0.369  0.254    0.133    0.014  0.000   0.064     0.155  0.286   \n",
       "1    0.908  0.115    0.471    0.036  0.045   0.064     0.028  0.325   \n",
       "2    0.892  0.235    0.456    0.109  0.102   0.193     0.197  0.392   \n",
       "3    0.677  0.148    0.240    0.042  0.027   0.079     0.310  0.679   \n",
       "4    0.954  0.136    0.471    0.059  0.064   0.034     0.239  0.560   \n",
       "..     ...    ...      ...      ...    ...     ...       ...    ...   \n",
       "111  0.323  0.420    0.471    0.047  0.054   0.713     0.251  0.171   \n",
       "112  0.585  0.419    0.594    0.110  0.123   0.115     0.133  0.219   \n",
       "113  0.631  0.677    0.548    0.174  0.170   0.809     0.231  0.206   \n",
       "114  0.738  0.357    0.317    0.020  0.019   0.292     0.002  0.267   \n",
       "115  0.954  0.436    1.000    0.920  1.000   1.000     0.037  0.034   \n",
       "\n",
       "     Classification  \n",
       "0                 1  \n",
       "1                 1  \n",
       "2                 1  \n",
       "3                 1  \n",
       "4                 1  \n",
       "..              ...  \n",
       "111               2  \n",
       "112               2  \n",
       "113               2  \n",
       "114               2  \n",
       "115               2  \n",
       "\n",
       "[116 rows x 9 columns]"
      ]
     },
     "execution_count": 117,
     "metadata": {},
     "output_type": "execute_result"
    }
   ],
   "source": [
    "\n",
    "def min_max_normalization(df, columns):\n",
    "    data_normalized = df.copy()\n",
    "    for column in columns:\n",
    "        data_normalized[column] = (df[column] - df[column].min()) / (df[column].max() - df[column].min())\n",
    "        # Bulatkan nilai hasil normalisasi menjadi tiga angka di belakang koma\n",
    "        data_normalized[column] = data_normalized[column].round(decimals=3)\n",
    "    return data_normalized\n",
    "\n",
    "# Contoh penggunaan fungsi hanya pada kolom \"kolom_1\" dan \"kolom_2\"\n",
    "columns_to_normalize = ['Age','BMI','Glucose', 'Insulin', 'HOMA', 'Leptin','Resistin','MCP.1']\n",
    "data_normalized = min_max_normalization(df, columns_to_normalize)\n",
    "\n",
    "data_normalized"
   ]
  },
  {
   "cell_type": "code",
   "execution_count": null,
   "id": "de475672-e0a5-4c26-abd9-d7629c07dd6b",
   "metadata": {},
   "outputs": [],
   "source": []
  },
  {
   "cell_type": "code",
   "execution_count": 118,
   "id": "0a5a7b99-0b61-466f-b7aa-18c938483537",
   "metadata": {},
   "outputs": [
    {
     "name": "stdout",
     "output_type": "stream",
     "text": [
      "    Feature  Ranking\n",
      "2   Glucose        1\n",
      "6  Resistin        2\n",
      "1       BMI        3\n",
      "4      HOMA        4\n",
      "5    Leptin        5\n",
      "3   Insulin        6\n",
      "0       Age        7\n",
      "7     MCP.1        8\n"
     ]
    }
   ],
   "source": [
    "import pandas as pd\n",
    "from sklearn.feature_selection import RFE\n",
    "from sklearn.linear_model import LogisticRegression\n",
    "\n",
    "# Split the dataset into features and target variable\n",
    "X = data_normalized.drop('Classification', axis=1)\n",
    "y = data_normalized['Classification']\n",
    "\n",
    "# Create a logistic regression model\n",
    "model = LogisticRegression()\n",
    "\n",
    "# Create the RFE object and specify the number of features to select (k)\n",
    "rfe = RFE(estimator=model, n_features_to_select=1)\n",
    "\n",
    "# Fit the RFE model to the data\n",
    "rfe.fit(X, y)\n",
    "\n",
    "# Print the ranking of the features\n",
    "feature_ranking = pd.DataFrame({'Feature': X.columns, 'Ranking': rfe.ranking_})\n",
    "feature_ranking = feature_ranking.sort_values(by='Ranking')\n",
    "print(feature_ranking)\n"
   ]
  },
  {
   "cell_type": "markdown",
   "id": "a2136317-5ba2-4ba9-917a-f5b8f08ec9e7",
   "metadata": {
    "tags": []
   },
   "source": [
    "# 3. Data spliting, modeling, evaluation"
   ]
  },
  {
   "cell_type": "code",
   "execution_count": 119,
   "id": "8b686502-4f7a-468d-a249-e70286ae7b3b",
   "metadata": {},
   "outputs": [],
   "source": [
    "import pandas as pd\n",
    "\n",
    "# Deklarasikan X dan y\n",
    "x = data_normalized.drop(\"Classification\", axis=1)  # Menghapus kolom \"kategori_baru\" dari atribut-atribut\n",
    "y = data_normalized[\"Classification\"]"
   ]
  },
  {
   "cell_type": "code",
   "execution_count": 120,
   "id": "fdb1afba-9b1d-4328-b691-18a81f4f56f1",
   "metadata": {},
   "outputs": [
    {
     "name": "stdout",
     "output_type": "stream",
     "text": [
      "Jumlah data training: 92\n",
      "Jumlah data testing: 24\n"
     ]
    }
   ],
   "source": [
    "from sklearn.model_selection import train_test_split\n",
    "\n",
    "x_train, x_test, y_train, y_test = train_test_split(x,y,test_size=0.2)\n",
    "\n",
    "print(\"Jumlah data training:\", len(x_train))\n",
    "print(\"Jumlah data testing:\", len(x_test))"
   ]
  },
  {
   "cell_type": "markdown",
   "id": "d69e6181-4c22-49fb-9ae6-7bcdaaf25835",
   "metadata": {
    "tags": []
   },
   "source": [
    "## knn"
   ]
  },
  {
   "cell_type": "code",
   "execution_count": 121,
   "id": "f55d99ae-a295-4828-bf1c-3ccd119775a1",
   "metadata": {},
   "outputs": [],
   "source": [
    "from sklearn.preprocessing import StandardScaler\n",
    "\n",
    "scaler = StandardScaler()\n",
    "scaler.fit(x_train)\n",
    "\n",
    "\n",
    "x_train = scaler.transform(x_train)\n",
    "x_test = scaler.transform(x_test)"
   ]
  },
  {
   "cell_type": "code",
   "execution_count": 122,
   "id": "73bb36c3-d970-446a-9305-c761ec3a41e3",
   "metadata": {},
   "outputs": [
    {
     "name": "stdout",
     "output_type": "stream",
     "text": [
      "K = 1, Akurasi = 0.6666666666666666\n",
      "K = 3, Akurasi = 0.7916666666666666\n",
      "K = 5, Akurasi = 0.875\n",
      "K = 7, Akurasi = 0.7916666666666666\n",
      "K = 9, Akurasi = 0.7916666666666666\n"
     ]
    },
    {
     "name": "stderr",
     "output_type": "stream",
     "text": [
      "C:\\Users\\Luqna Aziziyah\\anaconda3\\lib\\site-packages\\sklearn\\neighbors\\_classification.py:228: FutureWarning: Unlike other reduction functions (e.g. `skew`, `kurtosis`), the default behavior of `mode` typically preserves the axis it acts along. In SciPy 1.11.0, this behavior will change: the default value of `keepdims` will become False, the `axis` over which the statistic is taken will be eliminated, and the value None will no longer be accepted. Set `keepdims` to True or False to avoid this warning.\n",
      "  mode, _ = stats.mode(_y[neigh_ind, k], axis=1)\n",
      "C:\\Users\\Luqna Aziziyah\\anaconda3\\lib\\site-packages\\sklearn\\neighbors\\_classification.py:228: FutureWarning: Unlike other reduction functions (e.g. `skew`, `kurtosis`), the default behavior of `mode` typically preserves the axis it acts along. In SciPy 1.11.0, this behavior will change: the default value of `keepdims` will become False, the `axis` over which the statistic is taken will be eliminated, and the value None will no longer be accepted. Set `keepdims` to True or False to avoid this warning.\n",
      "  mode, _ = stats.mode(_y[neigh_ind, k], axis=1)\n",
      "C:\\Users\\Luqna Aziziyah\\anaconda3\\lib\\site-packages\\sklearn\\neighbors\\_classification.py:228: FutureWarning: Unlike other reduction functions (e.g. `skew`, `kurtosis`), the default behavior of `mode` typically preserves the axis it acts along. In SciPy 1.11.0, this behavior will change: the default value of `keepdims` will become False, the `axis` over which the statistic is taken will be eliminated, and the value None will no longer be accepted. Set `keepdims` to True or False to avoid this warning.\n",
      "  mode, _ = stats.mode(_y[neigh_ind, k], axis=1)\n",
      "C:\\Users\\Luqna Aziziyah\\anaconda3\\lib\\site-packages\\sklearn\\neighbors\\_classification.py:228: FutureWarning: Unlike other reduction functions (e.g. `skew`, `kurtosis`), the default behavior of `mode` typically preserves the axis it acts along. In SciPy 1.11.0, this behavior will change: the default value of `keepdims` will become False, the `axis` over which the statistic is taken will be eliminated, and the value None will no longer be accepted. Set `keepdims` to True or False to avoid this warning.\n",
      "  mode, _ = stats.mode(_y[neigh_ind, k], axis=1)\n",
      "C:\\Users\\Luqna Aziziyah\\anaconda3\\lib\\site-packages\\sklearn\\neighbors\\_classification.py:228: FutureWarning: Unlike other reduction functions (e.g. `skew`, `kurtosis`), the default behavior of `mode` typically preserves the axis it acts along. In SciPy 1.11.0, this behavior will change: the default value of `keepdims` will become False, the `axis` over which the statistic is taken will be eliminated, and the value None will no longer be accepted. Set `keepdims` to True or False to avoid this warning.\n",
      "  mode, _ = stats.mode(_y[neigh_ind, k], axis=1)\n"
     ]
    }
   ],
   "source": [
    "from sklearn.preprocessing import StandardScaler\n",
    "from sklearn.neighbors import KNeighborsClassifier\n",
    "import numpy as np\n",
    "\n",
    "scaler = StandardScaler()\n",
    "scaler.fit(x_train)\n",
    "\n",
    "x_train = scaler.transform(x_train)\n",
    "x_test = scaler.transform(x_test)\n",
    "\n",
    "k_values = [1, 3, 5, 7, 9]\n",
    "accuracies = []\n",
    "\n",
    "for k in k_values:\n",
    "    knn = KNeighborsClassifier(n_neighbors=k)\n",
    "    knn.fit(x_train, y_train)\n",
    "\n",
    "    # Lakukan prediksi pada data uji\n",
    "    y_pred = knn.predict(x_test)\n",
    "\n",
    "    # Hitung akurasi\n",
    "    accuracy = np.mean(y_pred == y_test)\n",
    "    accuracies.append(accuracy)\n",
    "\n",
    "for k, accuracy in zip(k_values, accuracies):\n",
    "    print(f\"K = {k}, Akurasi = {accuracy}\")\n"
   ]
  },
  {
   "cell_type": "code",
   "execution_count": 123,
   "id": "905dc153-c21e-4e50-a967-fb193551d3c3",
   "metadata": {},
   "outputs": [
    {
     "name": "stdout",
     "output_type": "stream",
     "text": [
      "K = 1:\n",
      "              precision    recall  f1-score   support\n",
      "\n",
      "           1       0.45      0.71      0.56         7\n",
      "           2       0.85      0.65      0.73        17\n",
      "\n",
      "    accuracy                           0.67        24\n",
      "   macro avg       0.65      0.68      0.64        24\n",
      "weighted avg       0.73      0.67      0.68        24\n",
      "\n",
      "\n",
      "K = 3:\n",
      "              precision    recall  f1-score   support\n",
      "\n",
      "           1       0.60      0.86      0.71         7\n",
      "           2       0.93      0.76      0.84        17\n",
      "\n",
      "    accuracy                           0.79        24\n",
      "   macro avg       0.76      0.81      0.77        24\n",
      "weighted avg       0.83      0.79      0.80        24\n",
      "\n",
      "\n",
      "K = 5:\n",
      "              precision    recall  f1-score   support\n",
      "\n",
      "           1       0.70      1.00      0.82         7\n",
      "           2       1.00      0.82      0.90        17\n",
      "\n",
      "    accuracy                           0.88        24\n",
      "   macro avg       0.85      0.91      0.86        24\n",
      "weighted avg       0.91      0.88      0.88        24\n",
      "\n",
      "\n",
      "K = 7:\n",
      "              precision    recall  f1-score   support\n",
      "\n",
      "           1       0.58      1.00      0.74         7\n",
      "           2       1.00      0.71      0.83        17\n",
      "\n",
      "    accuracy                           0.79        24\n",
      "   macro avg       0.79      0.85      0.78        24\n",
      "weighted avg       0.88      0.79      0.80        24\n",
      "\n",
      "\n",
      "K = 9:\n",
      "              precision    recall  f1-score   support\n",
      "\n",
      "           1       0.58      1.00      0.74         7\n",
      "           2       1.00      0.71      0.83        17\n",
      "\n",
      "    accuracy                           0.79        24\n",
      "   macro avg       0.79      0.85      0.78        24\n",
      "weighted avg       0.88      0.79      0.80        24\n",
      "\n",
      "\n"
     ]
    },
    {
     "name": "stderr",
     "output_type": "stream",
     "text": [
      "C:\\Users\\Luqna Aziziyah\\anaconda3\\lib\\site-packages\\sklearn\\neighbors\\_classification.py:228: FutureWarning: Unlike other reduction functions (e.g. `skew`, `kurtosis`), the default behavior of `mode` typically preserves the axis it acts along. In SciPy 1.11.0, this behavior will change: the default value of `keepdims` will become False, the `axis` over which the statistic is taken will be eliminated, and the value None will no longer be accepted. Set `keepdims` to True or False to avoid this warning.\n",
      "  mode, _ = stats.mode(_y[neigh_ind, k], axis=1)\n",
      "C:\\Users\\Luqna Aziziyah\\anaconda3\\lib\\site-packages\\sklearn\\neighbors\\_classification.py:228: FutureWarning: Unlike other reduction functions (e.g. `skew`, `kurtosis`), the default behavior of `mode` typically preserves the axis it acts along. In SciPy 1.11.0, this behavior will change: the default value of `keepdims` will become False, the `axis` over which the statistic is taken will be eliminated, and the value None will no longer be accepted. Set `keepdims` to True or False to avoid this warning.\n",
      "  mode, _ = stats.mode(_y[neigh_ind, k], axis=1)\n",
      "C:\\Users\\Luqna Aziziyah\\anaconda3\\lib\\site-packages\\sklearn\\neighbors\\_classification.py:228: FutureWarning: Unlike other reduction functions (e.g. `skew`, `kurtosis`), the default behavior of `mode` typically preserves the axis it acts along. In SciPy 1.11.0, this behavior will change: the default value of `keepdims` will become False, the `axis` over which the statistic is taken will be eliminated, and the value None will no longer be accepted. Set `keepdims` to True or False to avoid this warning.\n",
      "  mode, _ = stats.mode(_y[neigh_ind, k], axis=1)\n",
      "C:\\Users\\Luqna Aziziyah\\anaconda3\\lib\\site-packages\\sklearn\\neighbors\\_classification.py:228: FutureWarning: Unlike other reduction functions (e.g. `skew`, `kurtosis`), the default behavior of `mode` typically preserves the axis it acts along. In SciPy 1.11.0, this behavior will change: the default value of `keepdims` will become False, the `axis` over which the statistic is taken will be eliminated, and the value None will no longer be accepted. Set `keepdims` to True or False to avoid this warning.\n",
      "  mode, _ = stats.mode(_y[neigh_ind, k], axis=1)\n",
      "C:\\Users\\Luqna Aziziyah\\anaconda3\\lib\\site-packages\\sklearn\\neighbors\\_classification.py:228: FutureWarning: Unlike other reduction functions (e.g. `skew`, `kurtosis`), the default behavior of `mode` typically preserves the axis it acts along. In SciPy 1.11.0, this behavior will change: the default value of `keepdims` will become False, the `axis` over which the statistic is taken will be eliminated, and the value None will no longer be accepted. Set `keepdims` to True or False to avoid this warning.\n",
      "  mode, _ = stats.mode(_y[neigh_ind, k], axis=1)\n"
     ]
    }
   ],
   "source": [
    "from sklearn.metrics import classification_report\n",
    "\n",
    "\n",
    "for k in k_values:\n",
    "    knn = KNeighborsClassifier(n_neighbors=k)\n",
    "    knn.fit(x_train, y_train)\n",
    "\n",
    "    # Lakukan prediksi pada data uji\n",
    "    y_pred = knn.predict(x_test)\n",
    "\n",
    "    # Tampilkan laporan evaluasi\n",
    "    report = classification_report(y_test, y_pred)\n",
    "    print(f\"K = {k}:\\n{report}\\n\")\n"
   ]
  },
  {
   "cell_type": "code",
   "execution_count": 124,
   "id": "63b67188-3faa-401d-8516-0d7840c5598a",
   "metadata": {},
   "outputs": [
    {
     "name": "stdout",
     "output_type": "stream",
     "text": [
      "K terbaik: 5\n",
      "Akurasi terbaik: 0.875\n"
     ]
    }
   ],
   "source": [
    "best_accuracy = max(accuracies)\n",
    "best_k = k_values[accuracies.index(best_accuracy)]\n",
    "\n",
    "print(f\"K terbaik: {best_k}\")\n",
    "print(f\"Akurasi terbaik: {best_accuracy}\")\n"
   ]
  },
  {
   "cell_type": "code",
   "execution_count": 125,
   "id": "f208144f-2289-4e4f-9dd6-b4465dd5acfa",
   "metadata": {},
   "outputs": [
    {
     "name": "stdout",
     "output_type": "stream",
     "text": [
      "Akurasi data training: 0.8152173913043478\n",
      "Akurasi data testing: 0.875\n"
     ]
    },
    {
     "name": "stderr",
     "output_type": "stream",
     "text": [
      "C:\\Users\\Luqna Aziziyah\\anaconda3\\lib\\site-packages\\sklearn\\neighbors\\_classification.py:228: FutureWarning: Unlike other reduction functions (e.g. `skew`, `kurtosis`), the default behavior of `mode` typically preserves the axis it acts along. In SciPy 1.11.0, this behavior will change: the default value of `keepdims` will become False, the `axis` over which the statistic is taken will be eliminated, and the value None will no longer be accepted. Set `keepdims` to True or False to avoid this warning.\n",
      "  mode, _ = stats.mode(_y[neigh_ind, k], axis=1)\n",
      "C:\\Users\\Luqna Aziziyah\\anaconda3\\lib\\site-packages\\sklearn\\neighbors\\_classification.py:228: FutureWarning: Unlike other reduction functions (e.g. `skew`, `kurtosis`), the default behavior of `mode` typically preserves the axis it acts along. In SciPy 1.11.0, this behavior will change: the default value of `keepdims` will become False, the `axis` over which the statistic is taken will be eliminated, and the value None will no longer be accepted. Set `keepdims` to True or False to avoid this warning.\n",
      "  mode, _ = stats.mode(_y[neigh_ind, k], axis=1)\n"
     ]
    }
   ],
   "source": [
    "k_best = best_k  # Menggunakan k terbaik yang telah ditentukan sebelumnya\n",
    "\n",
    "# Membuat dan melatih model KNN dengan k terbaik\n",
    "knn_best = KNeighborsClassifier(n_neighbors=k_best)\n",
    "knn_best.fit(x_train, y_train)\n",
    "\n",
    "# Melakukan prediksi pada data training dan testing\n",
    "y_train_pred = knn_best.predict(x_train)\n",
    "y_test_pred = knn_best.predict(x_test)\n",
    "\n",
    "# Menghitung akurasi data training dan testing\n",
    "accuracy_train = np.mean(y_train_pred == y_train)\n",
    "accuracy_test = np.mean(y_test_pred == y_test)\n",
    "\n",
    "print(f\"Akurasi data training: {accuracy_train}\")\n",
    "print(f\"Akurasi data testing: {accuracy_test}\")\n"
   ]
  },
  {
   "cell_type": "code",
   "execution_count": 1,
   "id": "7a92f1a1-7c68-40d3-8c00-008249aed5d4",
   "metadata": {},
   "outputs": [
    {
     "name": "stdout",
     "output_type": "stream",
     "text": [
      "--Kelas 1--\n",
      "False Positives (FP) untuk kelas 1: 2.1000000000000005\n",
      "False Negatives (FN) untuk kelas 1: 0.0\n",
      "True Positives (TP) untuk kelas 1: 4.8999999999999995\n",
      "True Negatives (TN) untuk kelas 1: 17.0\n",
      "\n",
      "--Kelas 2--\n",
      "False Positives (FP) untuk kelas 2: 0.0\n",
      "False Negatives (FN) untuk kelas 2: 3.060000000000001\n",
      "True Positives (TP) untuk kelas 2: 17.0\n",
      "True Negatives (TN) untuk kelas 2: 3.9399999999999977\n"
     ]
    }
   ],
   "source": [
    "# Precision, Recall, dan Support untuk kelas 1\n",
    "precision_class1 = 0.70\n",
    "recall_class1 = 1.00\n",
    "support_class1 = 7\n",
    "\n",
    "# Precision, Recall, dan Support untuk kelas 2\n",
    "precision_class2 = 1.00\n",
    "recall_class2 = 0.82\n",
    "support_class2 = 17\n",
    "\n",
    "# Menghitung FP, FN, TP, TN untuk kelas 1\n",
    "FP_class1 = (1 - precision_class1) * support_class1\n",
    "FN_class1 = (1 - recall_class1) * support_class1\n",
    "TP_class1 = precision_class1 * support_class1\n",
    "TN_class1 = (24 - (FP_class1 + FN_class1 + TP_class1))\n",
    "\n",
    "# Menghitung FP, FN, TP, TN untuk kelas 2\n",
    "FP_class2 = (1 - precision_class2) * support_class2\n",
    "FN_class2 = (1 - recall_class2) * support_class2\n",
    "TP_class2 = precision_class2 * support_class2\n",
    "TN_class2 = (24 - (FP_class2 + FN_class2 + TP_class2))\n",
    "\n",
    "# Menampilkan hasil\n",
    "print(\"--Kelas 1--\")\n",
    "print(\"False Positives (FP) untuk kelas 1:\", FP_class1)\n",
    "print(\"False Negatives (FN) untuk kelas 1:\", FN_class1)\n",
    "print(\"True Positives (TP) untuk kelas 1:\", TP_class1)\n",
    "print(\"True Negatives (TN) untuk kelas 1:\", TN_class1)\n",
    "print()\n",
    "print(\"--Kelas 2--\")\n",
    "print(\"False Positives (FP) untuk kelas 2:\", FP_class2)\n",
    "print(\"False Negatives (FN) untuk kelas 2:\", FN_class2)\n",
    "print(\"True Positives (TP) untuk kelas 2:\", TP_class2)\n",
    "print(\"True Negatives (TN) untuk kelas 2:\", TN_class2)\n"
   ]
  },
  {
   "cell_type": "markdown",
   "id": "018bc747-08aa-479e-a332-7222789c107f",
   "metadata": {
    "tags": []
   },
   "source": [
    "## dtree"
   ]
  },
  {
   "cell_type": "code",
   "execution_count": 127,
   "id": "baa50955-7678-48ae-923c-5f539e7c2033",
   "metadata": {},
   "outputs": [],
   "source": [
    "import numpy as np\n",
    "from sklearn.model_selection import train_test_split\n",
    "from sklearn.tree import DecisionTreeClassifier\n",
    "from sklearn.metrics import accuracy_score"
   ]
  },
  {
   "cell_type": "code",
   "execution_count": 128,
   "id": "8d5c76fc-4eb2-47f2-876f-7534379e4c8e",
   "metadata": {},
   "outputs": [],
   "source": [
    "# Create Decision Tree classifer object\n",
    "dt = DecisionTreeClassifier()\n",
    "\n",
    "# Train Decision Tree Classifer\n",
    "dt = dt.fit(x_train,y_train)\n",
    "\n",
    "#Predict the response for test dataset\n",
    "y_pred = dt.predict(x_test)\n"
   ]
  },
  {
   "cell_type": "code",
   "execution_count": 129,
   "id": "3ef123fd-7621-4b7a-a2ac-a3a5e2a1d37f",
   "metadata": {},
   "outputs": [
    {
     "name": "stdout",
     "output_type": "stream",
     "text": [
      "              precision    recall  f1-score   support\n",
      "\n",
      "           1       0.50      0.71      0.59         7\n",
      "           2       0.86      0.71      0.77        17\n",
      "\n",
      "    accuracy                           0.71        24\n",
      "   macro avg       0.68      0.71      0.68        24\n",
      "weighted avg       0.75      0.71      0.72        24\n",
      "\n"
     ]
    }
   ],
   "source": [
    "from sklearn.metrics import classification_report, confusion_matrix\n",
    "\n",
    "print(classification_report(y_test, y_pred))"
   ]
  },
  {
   "cell_type": "code",
   "execution_count": 130,
   "id": "d9b71329-b264-4f49-b59c-68f71e5b30a4",
   "metadata": {},
   "outputs": [
    {
     "name": "stdout",
     "output_type": "stream",
     "text": [
      "Performa pada data pelatihan: 100.0 %\n",
      "Performa pada data testing: 70.83333333333334 %\n"
     ]
    }
   ],
   "source": [
    "from sklearn.metrics import accuracy_score\n",
    "\n",
    "# Prediksi pada data pelatihan\n",
    "y_pred_train = dt.predict(x_train)\n",
    "accuracy_train = accuracy_score(y_train, y_pred_train)\n",
    "\n",
    "# Prediksi pada data testing\n",
    "y_pred_test = dt.predict(x_test)\n",
    "accuracy_test = accuracy_score(y_test, y_pred_test)\n",
    "\n",
    "# Persentase performa pada data pelatihan dan data testing\n",
    "percentage_train = accuracy_train * 100\n",
    "percentage_test = accuracy_test * 100\n",
    "\n",
    "print(\"Performa pada data pelatihan:\", percentage_train, \"%\")\n",
    "print(\"Performa pada data testing:\", percentage_test, \"%\")\n"
   ]
  },
  {
   "cell_type": "code",
   "execution_count": 2,
   "id": "7bc9fddd",
   "metadata": {},
   "outputs": [
    {
     "name": "stdout",
     "output_type": "stream",
     "text": [
      "--Kelas 1--\n",
      "False Positives (FP) untuk kelas 1: 3.5\n",
      "False Negatives (FN) untuk kelas 1: 2.0300000000000002\n",
      "True Positives (TP) untuk kelas 1: 3.5\n",
      "True Negatives (TN) untuk kelas 1: 14.969999999999999\n",
      "\n",
      "--Kelas 2--\n",
      "False Positives (FP) untuk kelas 2: 2.3800000000000003\n",
      "False Negatives (FN) untuk kelas 2: 4.930000000000001\n",
      "True Positives (TP) untuk kelas 2: 14.62\n",
      "True Negatives (TN) untuk kelas 2: 2.0700000000000003\n"
     ]
    }
   ],
   "source": [
    "\n",
    "# Precision, Recall, dan Support untuk kelas 1\n",
    "precision_class1 = 0.50\n",
    "recall_class1 = 0.71\n",
    "support_class1 = 7\n",
    "\n",
    "# Precision, Recall, dan Support untuk kelas 2\n",
    "precision_class2 = 0.86\n",
    "recall_class2 = 0.71\n",
    "support_class2 = 17\n",
    "\n",
    "# Menghitung FP, FN, TP, TN untuk kelas 1\n",
    "FP_class1 = (1 - precision_class1) * support_class1\n",
    "FN_class1 = (1 - recall_class1) * support_class1\n",
    "TP_class1 = precision_class1 * support_class1\n",
    "TN_class1 = (24 - (FP_class1 + FN_class1 + TP_class1))\n",
    "\n",
    "# Menghitung FP, FN, TP, TN untuk kelas 2\n",
    "FP_class2 = (1 - precision_class2) * support_class2\n",
    "FN_class2 = (1 - recall_class2) * support_class2\n",
    "TP_class2 = precision_class2 * support_class2\n",
    "TN_class2 = (24 - (FP_class2 + FN_class2 + TP_class2))\n",
    "\n",
    "# Menampilkan hasil\n",
    "print(\"--Kelas 1--\")\n",
    "print(\"False Positives (FP) untuk kelas 1:\", FP_class1)\n",
    "print(\"False Negatives (FN) untuk kelas 1:\", FN_class1)\n",
    "print(\"True Positives (TP) untuk kelas 1:\", TP_class1)\n",
    "print(\"True Negatives (TN) untuk kelas 1:\", TN_class1)\n",
    "print()\n",
    "print(\"--Kelas 2--\")\n",
    "print(\"False Positives (FP) untuk kelas 2:\", FP_class2)\n",
    "print(\"False Negatives (FN) untuk kelas 2:\", FN_class2)\n",
    "print(\"True Positives (TP) untuk kelas 2:\", TP_class2)\n",
    "print(\"True Negatives (TN) untuk kelas 2:\", TN_class2)\n"
   ]
  },
  {
   "cell_type": "code",
   "execution_count": 131,
   "id": "78fa51f9-ca42-471a-9d56-3fe6e3eed437",
   "metadata": {},
   "outputs": [],
   "source": [
    "import pickle\n",
    "import json\n",
    "\n",
    "accuracy = 0.83\n",
    "precision = {'Kelas 1': 0.82,\n",
    "             'Kelas 2': 0.85\n",
    "            }\n",
    "\n",
    "recall = {'Kelas 1': 0.82,\n",
    "          'Kelas 2': 0.85\n",
    "         }\n",
    "\n",
    "f1_score = {'Kelas 1': 0.82,\n",
    "            'Kelas 2': 0.85\n",
    "           }\n",
    "\n",
    "support = {'Kelas 1': 11,\n",
    "           'Kelas 2': 13\n",
    "          }\n",
    "\n",
    "# Menyimpan akurasi dan metrik dalam sebuah dictionary\n",
    "metrics = {\n",
    "    'accuracy': accuracy,\n",
    "    'precision': precision,\n",
    "    'recall': recall,\n",
    "    'f1-score': f1_score,\n",
    "    'support': support\n",
    "}\n",
    "\n",
    "# Simpan metrics ke dalam file\n",
    "with open('breast cancer_knn.pickle', 'wb') as file:\n",
    "    pickle.dump(metrics, file)"
   ]
  },
  {
   "cell_type": "code",
   "execution_count": null,
   "id": "193c2ba3-8e5c-47b4-b50b-a8da2b62b1b9",
   "metadata": {},
   "outputs": [],
   "source": []
  },
  {
   "cell_type": "code",
   "execution_count": null,
   "id": "c661f8d4-b820-4aa3-8551-861a4c22845f",
   "metadata": {},
   "outputs": [],
   "source": []
  }
 ],
 "metadata": {
  "kernelspec": {
   "display_name": "Python 3 (ipykernel)",
   "language": "python",
   "name": "python3"
  },
  "language_info": {
   "codemirror_mode": {
    "name": "ipython",
    "version": 3
   },
   "file_extension": ".py",
   "mimetype": "text/x-python",
   "name": "python",
   "nbconvert_exporter": "python",
   "pygments_lexer": "ipython3",
   "version": "3.9.13"
  }
 },
 "nbformat": 4,
 "nbformat_minor": 5
}
